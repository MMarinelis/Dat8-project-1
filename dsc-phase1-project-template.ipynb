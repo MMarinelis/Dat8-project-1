{
 "cells": [
  {
   "cell_type": "markdown",
   "metadata": {},
   "source": [
    "![example](images/director_shot.jpeg)"
   ]
  },
  {
   "attachments": {},
   "cell_type": "markdown",
   "metadata": {},
   "source": [
    "# Project Title\n",
    "\n",
    "**Authors:** Maree Marinelis\n",
    "***"
   ]
  },
  {
   "cell_type": "markdown",
   "metadata": {},
   "source": [
    "## Overview\n",
    "\n",
    "A one-paragraph overview of the project, including the business problem, data, methods, results and recommendations."
   ]
  },
  {
   "cell_type": "markdown",
   "metadata": {},
   "source": [
    "## Business Problem\n",
    "\n",
    "Summary of the business problem you are trying to solve, and the data questions that you plan to answer to solve them.\n",
    "\n",
    "***\n",
    "Questions to consider:\n",
    "* What are the business's pain points related to this project?\n",
    "* How did you pick the data analysis question(s) that you did?\n",
    "* Why are these questions important from a business perspective?\n",
    "***"
   ]
  },
  {
   "cell_type": "markdown",
   "metadata": {},
   "source": [
    "## Data Understanding\n",
    "\n",
    "Describe the data being used for this project.\n",
    "***\n",
    "Questions to consider:\n",
    "* Where did the data come from, and how do they relate to the data analysis questions?\n",
    "* What do the data represent? Who is in the sample and what variables are included?\n",
    "* What is the target variable?\n",
    "* What are the properties of the variables you intend to use?\n",
    "***"
   ]
  },
  {
   "cell_type": "code",
   "execution_count": 1,
   "metadata": {},
   "outputs": [],
   "source": [
    "# Import standard packages\n",
    "import pandas as pd\n",
    "import numpy as np\n",
    "import matplotlib.pyplot as plt\n",
    "import seaborn as sns\n",
    "\n",
    "%matplotlib inline"
   ]
  },
  {
   "cell_type": "code",
   "execution_count": 83,
   "metadata": {},
   "outputs": [
    {
     "name": "stdout",
     "output_type": "stream",
     "text": [
      "df1 Index(['title', 'studio', 'domestic_gross', 'foreign_gross', 'year'], dtype='object')\n",
      "df2 Index(['Unnamed: 0', 'genre_ids', 'id', 'original_language', 'original_title',\n",
      "       'popularity', 'release_date', 'title', 'vote_average', 'vote_count'],\n",
      "      dtype='object')\n",
      "df3 Index(['id', 'synopsis', 'rating', 'genre', 'director', 'writer',\n",
      "       'theater_date', 'dvd_date', 'currency', 'box_office', 'runtime',\n",
      "       'studio'],\n",
      "      dtype='object')\n",
      "df4 Index(['id', 'review', 'rating', 'fresh', 'critic', 'top_critic', 'publisher',\n",
      "       'date'],\n",
      "      dtype='object')\n",
      "df6 Index(['id', 'release_date', 'movie', 'production_budget', 'domestic_gross',\n",
      "       'worldwide_gross'],\n",
      "      dtype='object')\n",
      "float64\n",
      "object\n"
     ]
    }
   ],
   "source": [
    "# Here you run your code to explore the data\n",
    "import pandas as pd\n",
    "\n",
    "\n",
    "df1 = pd.read_csv('zippedData/bom.movie_gross.csv.gz')\n",
    "\n",
    "#print (df1.head())\n",
    "#print (df1.tail())\n",
    "#print (df1.shape)\n",
    "#df1.duplicated().value_counts()\n",
    "#df1.sort_values\n",
    "#df1.iloc[10]\n",
    "#df1.info()\n",
    "\n",
    "#df1.dtypes\n",
    "\n",
    "print('df1',df1.columns)\n",
    "\n",
    "df2 = pd.read_csv('zippedData/tmdb.movies.csv.gz')\n",
    "\n",
    "print('df2',df2.columns)\n",
    "\n",
    "df3 = pd.read_csv('zippedData/rt.movie_info.tsv.gz', sep='\\t', skiprows=[6])  # Skip line 7 (index 6)\n",
    "\n",
    "print('df3', df3.columns)\n",
    "\n",
    "#df1_2 = pd.merge(df1, df2, on='title')\n",
    "\n",
    "#print('df1_2',df1_2.columns)\n",
    "\n",
    "#df1_3 = pd.merge(df1, df3, on='studio')\n",
    "\n",
    "df4 = pd.read_csv('zippedData/rt.reviews.tsv.gz', sep='\\t', skiprows=[4], encoding='latin-1')  # Use 'latin-1' encoding\n",
    "\n",
    "print('df4', df4.columns)\n",
    "\n",
    "#df1_4 = pd.merge(df1_3, df4, on='rating')\n",
    "\n",
    "\n",
    "df6 = pd.read_csv('zippedData/tn.movie_budgets.csv.gz')\n",
    "\n",
    "print('df6', df6.columns)\n",
    "\n",
    "\n",
    "print(df1['domestic_gross'].dtype)\n",
    "print(df6['domestic_gross'].dtype)\n",
    "\n",
    "\n",
    "\n",
    "#link domestic and foreign sales with rating/vote average, genre, \n",
    "\n"
   ]
  },
  {
   "cell_type": "markdown",
   "metadata": {},
   "source": [
    "## Data Preparation\n",
    "\n",
    "Describe and justify the process for preparing the data for analysis.\n",
    "\n",
    "***\n",
    "Questions to consider:\n",
    "* Were there variables you dropped or created?\n",
    "* How did you address missing values or outliers?\n",
    "* Why are these choices appropriate given the data and the business problem?\n",
    "***"
   ]
  },
  {
   "cell_type": "code",
   "execution_count": 84,
   "metadata": {},
   "outputs": [
    {
     "data": {
      "text/html": [
       "<div>\n",
       "<style scoped>\n",
       "    .dataframe tbody tr th:only-of-type {\n",
       "        vertical-align: middle;\n",
       "    }\n",
       "\n",
       "    .dataframe tbody tr th {\n",
       "        vertical-align: top;\n",
       "    }\n",
       "\n",
       "    .dataframe thead th {\n",
       "        text-align: right;\n",
       "    }\n",
       "</style>\n",
       "<table border=\"1\" class=\"dataframe\">\n",
       "  <thead>\n",
       "    <tr style=\"text-align: right;\">\n",
       "      <th></th>\n",
       "      <th>year</th>\n",
       "      <th>count_df1</th>\n",
       "      <th>count_df6</th>\n",
       "      <th>total_releases</th>\n",
       "    </tr>\n",
       "  </thead>\n",
       "  <tbody>\n",
       "    <tr>\n",
       "      <th>0</th>\n",
       "      <td>2015</td>\n",
       "      <td>450.0</td>\n",
       "      <td>338</td>\n",
       "      <td>788.0</td>\n",
       "    </tr>\n",
       "    <tr>\n",
       "      <th>1</th>\n",
       "      <td>2016</td>\n",
       "      <td>436.0</td>\n",
       "      <td>219</td>\n",
       "      <td>655.0</td>\n",
       "    </tr>\n",
       "    <tr>\n",
       "      <th>3</th>\n",
       "      <td>2011</td>\n",
       "      <td>399.0</td>\n",
       "      <td>254</td>\n",
       "      <td>653.0</td>\n",
       "    </tr>\n",
       "    <tr>\n",
       "      <th>4</th>\n",
       "      <td>2014</td>\n",
       "      <td>395.0</td>\n",
       "      <td>255</td>\n",
       "      <td>650.0</td>\n",
       "    </tr>\n",
       "    <tr>\n",
       "      <th>2</th>\n",
       "      <td>2012</td>\n",
       "      <td>400.0</td>\n",
       "      <td>235</td>\n",
       "      <td>635.0</td>\n",
       "    </tr>\n",
       "  </tbody>\n",
       "</table>\n",
       "</div>"
      ],
      "text/plain": [
       "   year  count_df1  count_df6  total_releases\n",
       "0  2015      450.0        338           788.0\n",
       "1  2016      436.0        219           655.0\n",
       "3  2011      399.0        254           653.0\n",
       "4  2014      395.0        255           650.0\n",
       "2  2012      400.0        235           635.0"
      ]
     },
     "execution_count": 84,
     "metadata": {},
     "output_type": "execute_result"
    }
   ],
   "source": [
    "# Here you run your code to clean the data\n",
    "\n",
    "\n",
    "#df6['domestic_gross']\n",
    "df6['domestic_gross'] = df6['domestic_gross'].str.replace('[^\\d.]', '', regex=True).astype(float)\n",
    "\n",
    "merged_df16 = pd.merge(df1, df6, left_on='title', right_on='movie')\n",
    "#print(merged_df16)\n",
    "\n",
    "#print(merged_df16[['domestic_gross_x','domestic_gross_y']])\n",
    "\n",
    "#sorting values on domestic_gross_y in descending order to see which films were the most successful. \n",
    "merged_df16.sort_values(by='domestic_gross_y', ascending=False)\n",
    "\n",
    "#The top 5 films are Black Panther, Avengers: Infinity War, Jurassic World, Incredibles 2, Rogue One: A Star Wars Story\n",
    "#looking at row 598, 602. All domestic grosses don't add up\n",
    "#Data Collection Period: The data might have been collected at different times, and one might include more recent figures than the other.\n",
    "# Data Sources: The data might be sourced from different databases or platforms, which might have different reporting standards or accuracy.\n",
    "# Data Processing: There might be differences in how gross revenues were calculated, adjusted, or reported in the original datasets.\n",
    "# Missing or Incorrect Entries: There might be inaccuracies, missing entries, or errors in one or both datasets.\n",
    "\n",
    "\n",
    "#next will look at release date and year columns to see which years released the most movies. Maybe look at most highly rated movies?\n",
    "#next can look at correlation of production budget and success financially domestically and worldwide\n",
    "\n",
    "\n",
    "\n",
    "\n",
    "df6['release_date'] = pd.to_datetime(df6['release_date'], errors='coerce')\n",
    "df6['release_year'] = df6['release_date'].dt.year\n",
    "\n",
    "# Extracting the release year from the 'release_date' column in df6 (tn_movie_budgets)\n",
    "df6['release_year'] = df6['release_date'].dt.year\n",
    "\n",
    "\n",
    "# Counting the number of movies released each year in both datasets (df1 and df6)\n",
    "movie_count_df1 = df1['year'].value_counts().reset_index().rename(columns={'index': 'year', 'year': 'count_df1'})\n",
    "movie_count_df6 = df6['release_year'].value_counts().reset_index().rename(columns={'index': 'year', 'release_year': 'count_df6'})\n",
    "\n",
    "# Merging the count data and summing up for total releases per year\n",
    "movie_count_merged = pd.merge(movie_count_df1, movie_count_df6, how='outer', on='year').fillna(0)\n",
    "movie_count_merged['total_releases'] = movie_count_merged['count_df1'] + movie_count_merged['count_df6']\n",
    "\n",
    "# Sorting by 'total_releases' to find the years with most releases\n",
    "top_years_releases_merged = movie_count_merged.sort_values(by='total_releases', ascending=False).head()\n",
    "\n",
    "top_years_releases_merged\n",
    "\n",
    "\n",
    "#look at highly rated films. Show the highest voted ones and compare to the vote count. Set mean for number of vote counts\n",
    "\n",
    "\n",
    "\n",
    "\n",
    "# print(merged_df16[['foreign_gross','worldwide_gross']])\n",
    "\n",
    "\n",
    "\n",
    "# ## Splitting the 'genre' column in df3 and exploring the number of movies per genre\n",
    "# # Expanding the split genres into separate rows\n",
    "# exploded_genres_df3 = df3.assign(genre=df3['genre'].str.split('|')).explode('genre')\n",
    "\n",
    "# # Counting the number of movies per genre\n",
    "# movies_per_genre_df3 = exploded_genres_df3['genre'].value_counts().reset_index().rename(columns={'index': 'genre', 'genre': 'movie_count'})\n",
    "\n",
    "# # Displaying the top genres by movie count\n",
    "# movies_per_genre_df3.head()"
   ]
  },
  {
   "cell_type": "markdown",
   "metadata": {},
   "source": [
    "## Data Modeling\n",
    "Describe and justify the process for analyzing or modeling the data.\n",
    "\n",
    "***\n",
    "Questions to consider:\n",
    "* How did you analyze or model the data?\n",
    "* How did you iterate on your initial approach to make it better?\n",
    "* Why are these choices appropriate given the data and the business problem?\n",
    "***"
   ]
  },
  {
   "cell_type": "code",
   "execution_count": null,
   "metadata": {},
   "outputs": [],
   "source": [
    "# Here you run your code to model the data\n"
   ]
  },
  {
   "cell_type": "markdown",
   "metadata": {},
   "source": [
    "## Evaluation\n",
    "Evaluate how well your work solves the stated business problem.\n",
    "\n",
    "***\n",
    "Questions to consider:\n",
    "* How do you interpret the results?\n",
    "* How well does your model fit your data? How much better is this than your baseline model?\n",
    "* How confident are you that your results would generalize beyond the data you have?\n",
    "* How confident are you that this model would benefit the business if put into use?\n",
    "***"
   ]
  },
  {
   "cell_type": "markdown",
   "metadata": {},
   "source": [
    "## Conclusions\n",
    "Provide your conclusions about the work you've done, including any limitations or next steps.\n",
    "\n",
    "***\n",
    "Questions to consider:\n",
    "* What would you recommend the business do as a result of this work?\n",
    "* What are some reasons why your analysis might not fully solve the business problem?\n",
    "* What else could you do in the future to improve this project?\n",
    "***"
   ]
  }
 ],
 "metadata": {
  "kernelspec": {
   "display_name": "Python 3",
   "language": "python",
   "name": "python3"
  },
  "language_info": {
   "codemirror_mode": {
    "name": "ipython",
    "version": 3
   },
   "file_extension": ".py",
   "mimetype": "text/x-python",
   "name": "python",
   "nbconvert_exporter": "python",
   "pygments_lexer": "ipython3",
   "version": "3.11.4"
  }
 },
 "nbformat": 4,
 "nbformat_minor": 4
}
